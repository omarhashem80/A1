{
  "cells": [
    {
      "cell_type": "markdown",
      "metadata": {
        "id": "view-in-github",
        "colab_type": "text"
      },
      "source": [
        "<a href=\"https://colab.research.google.com/github/omarhashem80/CNN_CAT_OR_DOG/blob/main/CNN_CAT_OR_DOG.ipynb\" target=\"_parent\"><img src=\"https://colab.research.google.com/assets/colab-badge.svg\" alt=\"Open In Colab\"/></a>"
      ]
    },
    {
      "cell_type": "markdown",
      "metadata": {
        "id": "3DR-eO17geWu"
      },
      "source": [
        "# Convolutional Neural Network"
      ]
    },
    {
      "cell_type": "markdown",
      "metadata": {
        "id": "EMefrVPCg-60"
      },
      "source": [
        "### Importing the libraries"
      ]
    },
    {
      "cell_type": "code",
      "execution_count": null,
      "metadata": {
        "id": "sCV30xyVhFbE",
        "outputId": "cfc6e229-4a18-4712-fe25-c57228e17f89"
      },
      "outputs": [
        {
          "data": {
            "text/plain": [
              "'2.10.0'"
            ]
          },
          "execution_count": 1,
          "metadata": {},
          "output_type": "execute_result"
        }
      ],
      "source": [
        "import tensorflow as tf\n",
        "from keras.preprocessing.image import ImageDataGenerator\n",
        "import numpy as np\n",
        "tf.__version__"
      ]
    },
    {
      "cell_type": "markdown",
      "metadata": {
        "id": "oxQxCBWyoGPE"
      },
      "source": [
        "## Part 1 - Data Preprocessing"
      ]
    },
    {
      "cell_type": "markdown",
      "metadata": {
        "id": "MvE-heJNo3GG"
      },
      "source": [
        "### Preprocessing the Training set"
      ]
    },
    {
      "cell_type": "code",
      "execution_count": null,
      "metadata": {
        "id": "0koUcJMJpEBD",
        "outputId": "b5c3de5b-8735-4b58-c952-e90060840c7b"
      },
      "outputs": [
        {
          "name": "stdout",
          "output_type": "stream",
          "text": [
            "Found 8000 images belonging to 2 classes.\n"
          ]
        }
      ],
      "source": [
        "train_datagen = ImageDataGenerator(\n",
        "    rescale=1./255,\n",
        "    shear_range=0.2,\n",
        "    zoom_range=0.2,\n",
        "    horizontal_flip=True)\n",
        "training_set = train_datagen.flow_from_directory(\n",
        "    directory='dataset/training_set',\n",
        "    target_size=(64, 64),\n",
        "    batch_size=32,\n",
        "    class_mode='binary'\n",
        ")"
      ]
    },
    {
      "cell_type": "markdown",
      "metadata": {
        "id": "mrCMmGw9pHys"
      },
      "source": [
        "### Preprocessing the Test set"
      ]
    },
    {
      "cell_type": "code",
      "execution_count": null,
      "metadata": {
        "id": "SH4WzfOhpKc3",
        "outputId": "61fd7891-c3ab-483c-fab4-6cba029a90fc"
      },
      "outputs": [
        {
          "name": "stdout",
          "output_type": "stream",
          "text": [
            "Found 2000 images belonging to 2 classes.\n"
          ]
        }
      ],
      "source": [
        "test_datagen = ImageDataGenerator(rescale=1./255,)\n",
        "test_set = test_datagen.flow_from_directory(\n",
        "    directory='dataset/test_set',\n",
        "    target_size=(64, 64),\n",
        "    batch_size=32,\n",
        "    class_mode='binary'\n",
        ")"
      ]
    },
    {
      "cell_type": "markdown",
      "metadata": {
        "id": "af8O4l90gk7B"
      },
      "source": [
        "## Part 2 - Building the CNN"
      ]
    },
    {
      "cell_type": "markdown",
      "metadata": {
        "id": "ces1gXY2lmoX"
      },
      "source": [
        "### Initialising the CNN"
      ]
    },
    {
      "cell_type": "code",
      "execution_count": null,
      "metadata": {
        "id": "SAUt4UMPlhLS"
      },
      "outputs": [],
      "source": [
        "cnn = tf.keras.models.Sequential()"
      ]
    },
    {
      "cell_type": "markdown",
      "metadata": {
        "id": "u5YJj_XMl5LF"
      },
      "source": [
        "### Step 1 - Convolution"
      ]
    },
    {
      "cell_type": "code",
      "execution_count": null,
      "metadata": {
        "id": "XPzPrMckl-hV"
      },
      "outputs": [],
      "source": [
        "cnn.add(tf.keras.layers.Conv2D(filters=32, kernel_size=3, activation='relu', input_shape=[64, 64, 3]))"
      ]
    },
    {
      "cell_type": "markdown",
      "metadata": {
        "id": "tf87FpvxmNOJ"
      },
      "source": [
        "### Step 2 - Pooling"
      ]
    },
    {
      "cell_type": "code",
      "execution_count": null,
      "metadata": {
        "id": "ncpqPl69mOac"
      },
      "outputs": [],
      "source": [
        "cnn.add(tf.keras.layers.MaxPool2D(pool_size=(2, 2), strides=2))"
      ]
    },
    {
      "cell_type": "markdown",
      "metadata": {
        "id": "xaTOgD8rm4mU"
      },
      "source": [
        "### Adding a second convolutional layer"
      ]
    },
    {
      "cell_type": "code",
      "execution_count": null,
      "metadata": {
        "id": "i_-FZjn_m8gk"
      },
      "outputs": [],
      "source": [
        "cnn.add(tf.keras.layers.Conv2D(filters=32, kernel_size=3, activation='relu'))\n",
        "cnn.add(tf.keras.layers.MaxPool2D(pool_size=(2, 2), strides=2))"
      ]
    },
    {
      "cell_type": "markdown",
      "metadata": {
        "id": "tmiEuvTunKfk"
      },
      "source": [
        "### Step 3 - Flattening"
      ]
    },
    {
      "cell_type": "code",
      "execution_count": null,
      "metadata": {
        "id": "6AZeOGCvnNZn"
      },
      "outputs": [],
      "source": [
        "cnn.add(tf.keras.layers.Flatten())"
      ]
    },
    {
      "cell_type": "markdown",
      "metadata": {
        "id": "dAoSECOm203v"
      },
      "source": [
        "### Step 4 - Full Connection"
      ]
    },
    {
      "cell_type": "code",
      "execution_count": null,
      "metadata": {
        "id": "8GtmUlLd26Nq"
      },
      "outputs": [],
      "source": [
        "cnn.add(tf.keras.layers.Dense(units=128, activation='relu'))"
      ]
    },
    {
      "cell_type": "markdown",
      "metadata": {
        "id": "yTldFvbX28Na"
      },
      "source": [
        "### Step 5 - Output Layer"
      ]
    },
    {
      "cell_type": "code",
      "execution_count": null,
      "metadata": {
        "id": "1p_Zj1Mc3Ko_"
      },
      "outputs": [],
      "source": [
        "cnn.add(tf.keras.layers.Dense(units=1, activation='sigmoid'))"
      ]
    },
    {
      "cell_type": "markdown",
      "metadata": {
        "id": "D6XkI90snSDl"
      },
      "source": [
        "## Part 3 - Training the CNN"
      ]
    },
    {
      "cell_type": "markdown",
      "metadata": {
        "id": "vfrFQACEnc6i"
      },
      "source": [
        "### Compiling the CNN"
      ]
    },
    {
      "cell_type": "code",
      "execution_count": null,
      "metadata": {
        "id": "NALksrNQpUlJ"
      },
      "outputs": [],
      "source": [
        "cnn.compile(optimizer= 'adam', loss= 'binary_crossentropy', metrics=['accuracy'])"
      ]
    },
    {
      "cell_type": "markdown",
      "metadata": {
        "id": "ehS-v3MIpX2h"
      },
      "source": [
        "### Training the CNN on the Training set and evaluating it on the Test set"
      ]
    },
    {
      "cell_type": "code",
      "execution_count": null,
      "metadata": {
        "id": "XUj1W4PJptta",
        "outputId": "7d543a52-4034-427e-e811-ed367a6a2cae"
      },
      "outputs": [
        {
          "name": "stdout",
          "output_type": "stream",
          "text": [
            "Epoch 1/25\n",
            "250/250 [==============================] - 140s 556ms/step - loss: 0.6856 - accuracy: 0.5644 - val_loss: 0.6743 - val_accuracy: 0.5790\n",
            "Epoch 2/25\n",
            "250/250 [==============================] - 71s 285ms/step - loss: 0.6473 - accuracy: 0.6301 - val_loss: 0.6238 - val_accuracy: 0.6580\n",
            "Epoch 3/25\n",
            "250/250 [==============================] - 70s 282ms/step - loss: 0.6176 - accuracy: 0.6666 - val_loss: 0.6227 - val_accuracy: 0.6580\n",
            "Epoch 4/25\n",
            "250/250 [==============================] - 67s 268ms/step - loss: 0.5901 - accuracy: 0.6904 - val_loss: 0.5624 - val_accuracy: 0.7180\n",
            "Epoch 5/25\n",
            "250/250 [==============================] - 73s 290ms/step - loss: 0.5550 - accuracy: 0.7163 - val_loss: 0.5471 - val_accuracy: 0.7330\n",
            "Epoch 6/25\n",
            "250/250 [==============================] - 74s 295ms/step - loss: 0.5219 - accuracy: 0.7365 - val_loss: 0.5186 - val_accuracy: 0.7405\n",
            "Epoch 7/25\n",
            "250/250 [==============================] - 54s 215ms/step - loss: 0.4932 - accuracy: 0.7602 - val_loss: 0.5543 - val_accuracy: 0.7200\n",
            "Epoch 8/25\n",
            "250/250 [==============================] - 51s 204ms/step - loss: 0.4938 - accuracy: 0.7614 - val_loss: 0.5054 - val_accuracy: 0.7555\n",
            "Epoch 9/25\n",
            "250/250 [==============================] - 66s 265ms/step - loss: 0.4615 - accuracy: 0.7732 - val_loss: 0.4805 - val_accuracy: 0.7700\n",
            "Epoch 10/25\n",
            "250/250 [==============================] - 63s 250ms/step - loss: 0.4465 - accuracy: 0.7878 - val_loss: 0.4916 - val_accuracy: 0.7785\n",
            "Epoch 11/25\n",
            "250/250 [==============================] - 57s 226ms/step - loss: 0.4214 - accuracy: 0.8034 - val_loss: 0.4756 - val_accuracy: 0.7760\n",
            "Epoch 12/25\n",
            "250/250 [==============================] - 52s 208ms/step - loss: 0.4037 - accuracy: 0.8166 - val_loss: 0.4805 - val_accuracy: 0.7870\n",
            "Epoch 13/25\n",
            "250/250 [==============================] - 57s 230ms/step - loss: 0.3964 - accuracy: 0.8173 - val_loss: 0.4755 - val_accuracy: 0.7915\n",
            "Epoch 14/25\n",
            "250/250 [==============================] - 57s 229ms/step - loss: 0.3689 - accuracy: 0.8390 - val_loss: 0.4949 - val_accuracy: 0.7845\n",
            "Epoch 15/25\n",
            "250/250 [==============================] - 49s 197ms/step - loss: 0.3515 - accuracy: 0.8472 - val_loss: 0.4664 - val_accuracy: 0.8020\n",
            "Epoch 16/25\n",
            "250/250 [==============================] - 54s 215ms/step - loss: 0.3372 - accuracy: 0.8531 - val_loss: 0.5247 - val_accuracy: 0.7770\n",
            "Epoch 17/25\n",
            "250/250 [==============================] - 52s 209ms/step - loss: 0.3237 - accuracy: 0.8580 - val_loss: 0.4822 - val_accuracy: 0.7920\n",
            "Epoch 18/25\n",
            "250/250 [==============================] - 49s 198ms/step - loss: 0.3074 - accuracy: 0.8711 - val_loss: 0.5089 - val_accuracy: 0.7900\n",
            "Epoch 19/25\n",
            "250/250 [==============================] - 52s 207ms/step - loss: 0.2897 - accuracy: 0.8776 - val_loss: 0.6175 - val_accuracy: 0.7560\n",
            "Epoch 20/25\n",
            "250/250 [==============================] - 48s 194ms/step - loss: 0.2634 - accuracy: 0.8906 - val_loss: 0.5138 - val_accuracy: 0.7790\n",
            "Epoch 21/25\n",
            "250/250 [==============================] - 49s 194ms/step - loss: 0.2609 - accuracy: 0.8864 - val_loss: 0.5278 - val_accuracy: 0.7940\n",
            "Epoch 22/25\n",
            "250/250 [==============================] - 49s 197ms/step - loss: 0.2390 - accuracy: 0.9009 - val_loss: 0.5126 - val_accuracy: 0.7985\n",
            "Epoch 23/25\n",
            "250/250 [==============================] - 49s 196ms/step - loss: 0.2369 - accuracy: 0.9011 - val_loss: 0.5555 - val_accuracy: 0.7865\n",
            "Epoch 24/25\n",
            "250/250 [==============================] - 49s 194ms/step - loss: 0.2179 - accuracy: 0.9103 - val_loss: 0.6052 - val_accuracy: 0.7770\n",
            "Epoch 25/25\n",
            "250/250 [==============================] - 50s 198ms/step - loss: 0.2076 - accuracy: 0.9178 - val_loss: 0.5874 - val_accuracy: 0.7865\n"
          ]
        },
        {
          "data": {
            "text/plain": [
              "<keras.callbacks.History at 0x1b8a759aa10>"
            ]
          },
          "execution_count": 12,
          "metadata": {},
          "output_type": "execute_result"
        }
      ],
      "source": [
        "cnn.fit(x = training_set, validation_data = test_set, epochs= 25)"
      ]
    },
    {
      "cell_type": "markdown",
      "metadata": {
        "id": "U3PZasO0006Z"
      },
      "source": [
        "## Part 4 - Making a single prediction"
      ]
    },
    {
      "cell_type": "code",
      "execution_count": null,
      "metadata": {
        "id": "gsSiWEJY1BPB",
        "outputId": "5f8a17fb-e5e8-480f-cac9-ee30b61b5418"
      },
      "outputs": [
        {
          "name": "stdout",
          "output_type": "stream",
          "text": [
            "1/1 [==============================] - 0s 187ms/step\n",
            "This is a dog\n"
          ]
        }
      ],
      "source": [
        "import keras.utils as image\n",
        "# Load and preprocess the image\n",
        "test_image = image.load_img('dataset/single_prediction/cat_or_dog_1.jpg', target_size=(64, 64))\n",
        "test_image = image.img_to_array(test_image)\n",
        "test_image = np.expand_dims(test_image, axis=0)\n",
        "\n",
        "# Make predictions\n",
        "result = cnn.predict(test_image)\n",
        "\n",
        "# Get the class labels\n",
        "class_indices = {0: 'cat', 1: 'dog'}\n",
        "\n",
        "# Interpret the results\n",
        "if result[0][0] > 0.5:  # Assuming 0.5 as the threshold\n",
        "    print(\"This is a\", class_indices[1])\n",
        "else:\n",
        "    print(\"This is a\", class_indices[0])\n"
      ]
    }
  ],
  "metadata": {
    "colab": {
      "provenance": [],
      "toc_visible": true,
      "include_colab_link": true
    },
    "kernelspec": {
      "display_name": "Python 3",
      "name": "python3"
    },
    "language_info": {
      "codemirror_mode": {
        "name": "ipython",
        "version": 3
      },
      "file_extension": ".py",
      "mimetype": "text/x-python",
      "name": "python",
      "nbconvert_exporter": "python",
      "pygments_lexer": "ipython3",
      "version": "3.10.8"
    }
  },
  "nbformat": 4,
  "nbformat_minor": 0
}